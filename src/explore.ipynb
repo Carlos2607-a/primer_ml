{
    "cells": [
        {
            "cell_type": "markdown",
            "metadata": {},
            "source": [
                "# El banco portugués está teniendo una disminución en sus ingresos, por lo que quieren poder identificar a los clientes existentes que tienen una mayor probabilidad de contratar un depósito a largo plazo. Esto permitirá que el banco centre sus esfuerzos de marketing en esos clientes y evitará perder dinero y tiempo en clientes que probablemente no se suscribirán.\n",
                "\n",
                "Para abordar este problema crearemos un algoritmo de clasificación que ayude a predecir si un cliente contrará o no un depósito a largo plazo."
            ]
        },
        {
            "cell_type": "markdown",
            "metadata": {},
            "source": [
                "* Importación de librerias.\n",
                "* Lectura de datos.\n",
                "* Limpieza de datos.\n",
                "* Verificación de variables.\n"
            ]
        },
        {
            "cell_type": "code",
            "execution_count": 1,
            "metadata": {},
            "outputs": [],
            "source": [
                "import pandas as pd\n",
                "import numpy as np\n",
                "from sklearn.preprocessing import MinMaxScaler\n",
                "from sklearn.model_selection import train_test_split\n",
                "import numpy as np\n",
                "from sklearn.linear_model import LogisticRegression\n",
                "from sklearn.metrics import mean_absolute_error , mean_absolute_percentage_error , accuracy_score, classification_report\n",
                "import statsmodels.api as sm\n",
                "import scipy.stats as stats\n",
                "from sklearn.model_selection import RandomizedSearchCV\n",
                "from scipy.stats import uniform\n",
                "from pickle import dump"
            ]
        },
        {
            "cell_type": "code",
            "execution_count": 2,
            "metadata": {},
            "outputs": [
                {
                    "data": {
                        "text/html": [
                            "<div>\n",
                            "<style scoped>\n",
                            "    .dataframe tbody tr th:only-of-type {\n",
                            "        vertical-align: middle;\n",
                            "    }\n",
                            "\n",
                            "    .dataframe tbody tr th {\n",
                            "        vertical-align: top;\n",
                            "    }\n",
                            "\n",
                            "    .dataframe thead th {\n",
                            "        text-align: right;\n",
                            "    }\n",
                            "</style>\n",
                            "<table border=\"1\" class=\"dataframe\">\n",
                            "  <thead>\n",
                            "    <tr style=\"text-align: right;\">\n",
                            "      <th></th>\n",
                            "      <th>age</th>\n",
                            "      <th>job</th>\n",
                            "      <th>marital</th>\n",
                            "      <th>education</th>\n",
                            "      <th>default</th>\n",
                            "      <th>housing</th>\n",
                            "      <th>loan</th>\n",
                            "      <th>contact</th>\n",
                            "      <th>month</th>\n",
                            "      <th>day_of_week</th>\n",
                            "      <th>...</th>\n",
                            "      <th>campaign</th>\n",
                            "      <th>pdays</th>\n",
                            "      <th>previous</th>\n",
                            "      <th>poutcome</th>\n",
                            "      <th>emp.var.rate</th>\n",
                            "      <th>cons.price.idx</th>\n",
                            "      <th>cons.conf.idx</th>\n",
                            "      <th>euribor3m</th>\n",
                            "      <th>nr.employed</th>\n",
                            "      <th>y</th>\n",
                            "    </tr>\n",
                            "  </thead>\n",
                            "  <tbody>\n",
                            "    <tr>\n",
                            "      <th>41183</th>\n",
                            "      <td>73</td>\n",
                            "      <td>retired</td>\n",
                            "      <td>married</td>\n",
                            "      <td>professional.course</td>\n",
                            "      <td>no</td>\n",
                            "      <td>yes</td>\n",
                            "      <td>no</td>\n",
                            "      <td>cellular</td>\n",
                            "      <td>nov</td>\n",
                            "      <td>fri</td>\n",
                            "      <td>...</td>\n",
                            "      <td>1</td>\n",
                            "      <td>999</td>\n",
                            "      <td>0</td>\n",
                            "      <td>nonexistent</td>\n",
                            "      <td>-1.1</td>\n",
                            "      <td>94.767</td>\n",
                            "      <td>-50.8</td>\n",
                            "      <td>1.028</td>\n",
                            "      <td>4963.6</td>\n",
                            "      <td>yes</td>\n",
                            "    </tr>\n",
                            "    <tr>\n",
                            "      <th>41184</th>\n",
                            "      <td>46</td>\n",
                            "      <td>blue-collar</td>\n",
                            "      <td>married</td>\n",
                            "      <td>professional.course</td>\n",
                            "      <td>no</td>\n",
                            "      <td>no</td>\n",
                            "      <td>no</td>\n",
                            "      <td>cellular</td>\n",
                            "      <td>nov</td>\n",
                            "      <td>fri</td>\n",
                            "      <td>...</td>\n",
                            "      <td>1</td>\n",
                            "      <td>999</td>\n",
                            "      <td>0</td>\n",
                            "      <td>nonexistent</td>\n",
                            "      <td>-1.1</td>\n",
                            "      <td>94.767</td>\n",
                            "      <td>-50.8</td>\n",
                            "      <td>1.028</td>\n",
                            "      <td>4963.6</td>\n",
                            "      <td>no</td>\n",
                            "    </tr>\n",
                            "    <tr>\n",
                            "      <th>41185</th>\n",
                            "      <td>56</td>\n",
                            "      <td>retired</td>\n",
                            "      <td>married</td>\n",
                            "      <td>university.degree</td>\n",
                            "      <td>no</td>\n",
                            "      <td>yes</td>\n",
                            "      <td>no</td>\n",
                            "      <td>cellular</td>\n",
                            "      <td>nov</td>\n",
                            "      <td>fri</td>\n",
                            "      <td>...</td>\n",
                            "      <td>2</td>\n",
                            "      <td>999</td>\n",
                            "      <td>0</td>\n",
                            "      <td>nonexistent</td>\n",
                            "      <td>-1.1</td>\n",
                            "      <td>94.767</td>\n",
                            "      <td>-50.8</td>\n",
                            "      <td>1.028</td>\n",
                            "      <td>4963.6</td>\n",
                            "      <td>no</td>\n",
                            "    </tr>\n",
                            "    <tr>\n",
                            "      <th>41186</th>\n",
                            "      <td>44</td>\n",
                            "      <td>technician</td>\n",
                            "      <td>married</td>\n",
                            "      <td>professional.course</td>\n",
                            "      <td>no</td>\n",
                            "      <td>no</td>\n",
                            "      <td>no</td>\n",
                            "      <td>cellular</td>\n",
                            "      <td>nov</td>\n",
                            "      <td>fri</td>\n",
                            "      <td>...</td>\n",
                            "      <td>1</td>\n",
                            "      <td>999</td>\n",
                            "      <td>0</td>\n",
                            "      <td>nonexistent</td>\n",
                            "      <td>-1.1</td>\n",
                            "      <td>94.767</td>\n",
                            "      <td>-50.8</td>\n",
                            "      <td>1.028</td>\n",
                            "      <td>4963.6</td>\n",
                            "      <td>yes</td>\n",
                            "    </tr>\n",
                            "    <tr>\n",
                            "      <th>41187</th>\n",
                            "      <td>74</td>\n",
                            "      <td>retired</td>\n",
                            "      <td>married</td>\n",
                            "      <td>professional.course</td>\n",
                            "      <td>no</td>\n",
                            "      <td>yes</td>\n",
                            "      <td>no</td>\n",
                            "      <td>cellular</td>\n",
                            "      <td>nov</td>\n",
                            "      <td>fri</td>\n",
                            "      <td>...</td>\n",
                            "      <td>3</td>\n",
                            "      <td>999</td>\n",
                            "      <td>1</td>\n",
                            "      <td>failure</td>\n",
                            "      <td>-1.1</td>\n",
                            "      <td>94.767</td>\n",
                            "      <td>-50.8</td>\n",
                            "      <td>1.028</td>\n",
                            "      <td>4963.6</td>\n",
                            "      <td>no</td>\n",
                            "    </tr>\n",
                            "  </tbody>\n",
                            "</table>\n",
                            "<p>5 rows × 21 columns</p>\n",
                            "</div>"
                        ],
                        "text/plain": [
                            "       age          job  marital            education default housing loan  \\\n",
                            "41183   73      retired  married  professional.course      no     yes   no   \n",
                            "41184   46  blue-collar  married  professional.course      no      no   no   \n",
                            "41185   56      retired  married    university.degree      no     yes   no   \n",
                            "41186   44   technician  married  professional.course      no      no   no   \n",
                            "41187   74      retired  married  professional.course      no     yes   no   \n",
                            "\n",
                            "        contact month day_of_week  ...  campaign  pdays  previous  \\\n",
                            "41183  cellular   nov         fri  ...         1    999         0   \n",
                            "41184  cellular   nov         fri  ...         1    999         0   \n",
                            "41185  cellular   nov         fri  ...         2    999         0   \n",
                            "41186  cellular   nov         fri  ...         1    999         0   \n",
                            "41187  cellular   nov         fri  ...         3    999         1   \n",
                            "\n",
                            "          poutcome emp.var.rate  cons.price.idx  cons.conf.idx  euribor3m  \\\n",
                            "41183  nonexistent         -1.1          94.767          -50.8      1.028   \n",
                            "41184  nonexistent         -1.1          94.767          -50.8      1.028   \n",
                            "41185  nonexistent         -1.1          94.767          -50.8      1.028   \n",
                            "41186  nonexistent         -1.1          94.767          -50.8      1.028   \n",
                            "41187      failure         -1.1          94.767          -50.8      1.028   \n",
                            "\n",
                            "       nr.employed    y  \n",
                            "41183       4963.6  yes  \n",
                            "41184       4963.6   no  \n",
                            "41185       4963.6   no  \n",
                            "41186       4963.6  yes  \n",
                            "41187       4963.6   no  \n",
                            "\n",
                            "[5 rows x 21 columns]"
                        ]
                    },
                    "execution_count": 2,
                    "metadata": {},
                    "output_type": "execute_result"
                }
            ],
            "source": [
                "data_original = pd.read_csv(\"https://raw.githubusercontent.com/4GeeksAcademy/logistic-regression-project-tutorial/main/bank-marketing-campaign-data.csv\", sep=\";\")\n",
                "data_original.tail()"
            ]
        },
        {
            "cell_type": "code",
            "execution_count": 3,
            "metadata": {},
            "outputs": [
                {
                    "name": "stdout",
                    "output_type": "stream",
                    "text": [
                        "<class 'pandas.core.frame.DataFrame'>\n",
                        "RangeIndex: 41188 entries, 0 to 41187\n",
                        "Data columns (total 21 columns):\n",
                        " #   Column          Non-Null Count  Dtype  \n",
                        "---  ------          --------------  -----  \n",
                        " 0   age             41188 non-null  int64  \n",
                        " 1   job             41188 non-null  object \n",
                        " 2   marital         41188 non-null  object \n",
                        " 3   education       41188 non-null  object \n",
                        " 4   default         41188 non-null  object \n",
                        " 5   housing         41188 non-null  object \n",
                        " 6   loan            41188 non-null  object \n",
                        " 7   contact         41188 non-null  object \n",
                        " 8   month           41188 non-null  object \n",
                        " 9   day_of_week     41188 non-null  object \n",
                        " 10  duration        41188 non-null  int64  \n",
                        " 11  campaign        41188 non-null  int64  \n",
                        " 12  pdays           41188 non-null  int64  \n",
                        " 13  previous        41188 non-null  int64  \n",
                        " 14  poutcome        41188 non-null  object \n",
                        " 15  emp.var.rate    41188 non-null  float64\n",
                        " 16  cons.price.idx  41188 non-null  float64\n",
                        " 17  cons.conf.idx   41188 non-null  float64\n",
                        " 18  euribor3m       41188 non-null  float64\n",
                        " 19  nr.employed     41188 non-null  float64\n",
                        " 20  y               41188 non-null  object \n",
                        "dtypes: float64(5), int64(5), object(11)\n",
                        "memory usage: 6.6+ MB\n"
                    ]
                }
            ],
            "source": [
                "data_original.info()"
            ]
        },
        {
            "cell_type": "code",
            "execution_count": 4,
            "metadata": {},
            "outputs": [
                {
                    "data": {
                        "text/plain": [
                            "age                 78\n",
                            "job                 12\n",
                            "marital              4\n",
                            "education            8\n",
                            "default              3\n",
                            "housing              3\n",
                            "loan                 3\n",
                            "contact              2\n",
                            "month               10\n",
                            "day_of_week          5\n",
                            "duration          1544\n",
                            "campaign            42\n",
                            "pdays               27\n",
                            "previous             8\n",
                            "poutcome             3\n",
                            "emp.var.rate        10\n",
                            "cons.price.idx      26\n",
                            "cons.conf.idx       26\n",
                            "euribor3m          316\n",
                            "nr.employed         11\n",
                            "y                    2\n",
                            "dtype: int64"
                        ]
                    },
                    "execution_count": 4,
                    "metadata": {},
                    "output_type": "execute_result"
                }
            ],
            "source": [
                "data_original.nunique()"
            ]
        },
        {
            "cell_type": "code",
            "execution_count": 5,
            "metadata": {},
            "outputs": [
                {
                    "data": {
                        "text/plain": [
                            "age                 int64\n",
                            "job                object\n",
                            "marital            object\n",
                            "education          object\n",
                            "default            object\n",
                            "housing            object\n",
                            "loan               object\n",
                            "contact            object\n",
                            "month              object\n",
                            "day_of_week        object\n",
                            "duration            int64\n",
                            "campaign            int64\n",
                            "pdays               int64\n",
                            "previous            int64\n",
                            "poutcome           object\n",
                            "emp.var.rate      float64\n",
                            "cons.price.idx    float64\n",
                            "cons.conf.idx     float64\n",
                            "euribor3m         float64\n",
                            "nr.employed       float64\n",
                            "y                  object\n",
                            "dtype: object"
                        ]
                    },
                    "execution_count": 5,
                    "metadata": {},
                    "output_type": "execute_result"
                }
            ],
            "source": [
                "data_original.dtypes"
            ]
        },
        {
            "cell_type": "code",
            "execution_count": 6,
            "metadata": {},
            "outputs": [
                {
                    "data": {
                        "text/plain": [
                            "(41188, 21)"
                        ]
                    },
                    "execution_count": 6,
                    "metadata": {},
                    "output_type": "execute_result"
                }
            ],
            "source": [
                "data_original.shape"
            ]
        },
        {
            "cell_type": "code",
            "execution_count": 7,
            "metadata": {},
            "outputs": [
                {
                    "data": {
                        "text/plain": [
                            "age               0\n",
                            "job               0\n",
                            "marital           0\n",
                            "education         0\n",
                            "default           0\n",
                            "housing           0\n",
                            "loan              0\n",
                            "contact           0\n",
                            "month             0\n",
                            "day_of_week       0\n",
                            "duration          0\n",
                            "campaign          0\n",
                            "pdays             0\n",
                            "previous          0\n",
                            "poutcome          0\n",
                            "emp.var.rate      0\n",
                            "cons.price.idx    0\n",
                            "cons.conf.idx     0\n",
                            "euribor3m         0\n",
                            "nr.employed       0\n",
                            "y                 0\n",
                            "dtype: int64"
                        ]
                    },
                    "execution_count": 7,
                    "metadata": {},
                    "output_type": "execute_result"
                }
            ],
            "source": [
                "data_original.isna().sum()"
            ]
        },
        {
            "cell_type": "code",
            "execution_count": 8,
            "metadata": {},
            "outputs": [
                {
                    "data": {
                        "text/plain": [
                            "12"
                        ]
                    },
                    "execution_count": 8,
                    "metadata": {},
                    "output_type": "execute_result"
                }
            ],
            "source": [
                "data_original.duplicated().sum()"
            ]
        },
        {
            "cell_type": "code",
            "execution_count": 9,
            "metadata": {},
            "outputs": [],
            "source": [
                "data_original = data_original.drop_duplicates()"
            ]
        },
        {
            "cell_type": "code",
            "execution_count": 10,
            "metadata": {},
            "outputs": [
                {
                    "data": {
                        "text/plain": [
                            "0"
                        ]
                    },
                    "execution_count": 10,
                    "metadata": {},
                    "output_type": "execute_result"
                }
            ],
            "source": [
                "data_original.duplicated().sum()"
            ]
        },
        {
            "cell_type": "markdown",
            "metadata": {},
            "source": [
                "Convertimos las variables para poder manejarlas y trabajar sobre sus datos."
            ]
        },
        {
            "cell_type": "code",
            "execution_count": 11,
            "metadata": {},
            "outputs": [
                {
                    "data": {
                        "text/html": [
                            "<div>\n",
                            "<style scoped>\n",
                            "    .dataframe tbody tr th:only-of-type {\n",
                            "        vertical-align: middle;\n",
                            "    }\n",
                            "\n",
                            "    .dataframe tbody tr th {\n",
                            "        vertical-align: top;\n",
                            "    }\n",
                            "\n",
                            "    .dataframe thead th {\n",
                            "        text-align: right;\n",
                            "    }\n",
                            "</style>\n",
                            "<table border=\"1\" class=\"dataframe\">\n",
                            "  <thead>\n",
                            "    <tr style=\"text-align: right;\">\n",
                            "      <th></th>\n",
                            "      <th>age</th>\n",
                            "      <th>duration</th>\n",
                            "      <th>campaign</th>\n",
                            "      <th>pdays</th>\n",
                            "      <th>previous</th>\n",
                            "      <th>emp.var.rate</th>\n",
                            "      <th>cons.price.idx</th>\n",
                            "      <th>cons.conf.idx</th>\n",
                            "      <th>euribor3m</th>\n",
                            "      <th>nr.employed</th>\n",
                            "      <th>...</th>\n",
                            "      <th>month_nov</th>\n",
                            "      <th>month_oct</th>\n",
                            "      <th>month_sep</th>\n",
                            "      <th>day_of_week_mon</th>\n",
                            "      <th>day_of_week_thu</th>\n",
                            "      <th>day_of_week_tue</th>\n",
                            "      <th>day_of_week_wed</th>\n",
                            "      <th>poutcome_nonexistent</th>\n",
                            "      <th>poutcome_success</th>\n",
                            "      <th>y_yes</th>\n",
                            "    </tr>\n",
                            "  </thead>\n",
                            "  <tbody>\n",
                            "    <tr>\n",
                            "      <th>0</th>\n",
                            "      <td>56</td>\n",
                            "      <td>261</td>\n",
                            "      <td>1</td>\n",
                            "      <td>999</td>\n",
                            "      <td>0</td>\n",
                            "      <td>1.1</td>\n",
                            "      <td>93.994</td>\n",
                            "      <td>-36.4</td>\n",
                            "      <td>4.857</td>\n",
                            "      <td>5191.0</td>\n",
                            "      <td>...</td>\n",
                            "      <td>0</td>\n",
                            "      <td>0</td>\n",
                            "      <td>0</td>\n",
                            "      <td>1</td>\n",
                            "      <td>0</td>\n",
                            "      <td>0</td>\n",
                            "      <td>0</td>\n",
                            "      <td>1</td>\n",
                            "      <td>0</td>\n",
                            "      <td>0</td>\n",
                            "    </tr>\n",
                            "  </tbody>\n",
                            "</table>\n",
                            "<p>1 rows × 54 columns</p>\n",
                            "</div>"
                        ],
                        "text/plain": [
                            "   age  duration  campaign  pdays  previous  emp.var.rate  cons.price.idx  \\\n",
                            "0   56       261         1    999         0           1.1          93.994   \n",
                            "\n",
                            "   cons.conf.idx  euribor3m  nr.employed  ...  month_nov  month_oct  \\\n",
                            "0          -36.4      4.857       5191.0  ...          0          0   \n",
                            "\n",
                            "   month_sep  day_of_week_mon  day_of_week_thu  day_of_week_tue  \\\n",
                            "0          0                1                0                0   \n",
                            "\n",
                            "   day_of_week_wed  poutcome_nonexistent  poutcome_success  y_yes  \n",
                            "0                0                     1                 0      0  \n",
                            "\n",
                            "[1 rows x 54 columns]"
                        ]
                    },
                    "execution_count": 11,
                    "metadata": {},
                    "output_type": "execute_result"
                }
            ],
            "source": [
                "dumt = data_original.select_dtypes(include=('object', 'category'))\n",
                "df_m = data_original.select_dtypes(exclude=('object', 'category'))\n",
                "dummy = pd.get_dummies(dumt, drop_first=True)\n",
                "dummy = dummy.astype(int)  # Convertir las variables dummy a enteros (0 o 1)\n",
                "data = pd.concat([df_m, dummy], axis=1)\n",
                "data.head(1)\n"
            ]
        },
        {
            "cell_type": "code",
            "execution_count": 12,
            "metadata": {},
            "outputs": [],
            "source": [
                "# Calcula la matriz de correlación\n",
                "correlacion = data.corr()\n",
                "\n",
                "# Selecciona las columnas con correlación superior al 30% con 'y_yes' (excluyendo la propia columna 'y_yes')\n",
                "relevantes = correlacion.index[abs(correlacion['y_yes']) > 0.2]\n",
                "\n",
                "# Agrega la columna 'y_yes' a las columnas relevantes si no está ya incluida\n",
                "relevantes = relevantes.union(['y_yes'])\n",
                "\n",
                "# Filtra el DataFrame original para incluir solo las columnas relevantes\n",
                "data_fil = data[relevantes]\n",
                "\n",
                "#Guardamos los datos limpios y precesados.\n",
                "data_fil.to_csv(\"/workspaces/primer_ml/data/processed/data_limpia.csv\")"
            ]
        },
        {
            "cell_type": "code",
            "execution_count": 13,
            "metadata": {},
            "outputs": [
                {
                    "data": {
                        "text/html": [
                            "<style type=\"text/css\">\n",
                            "#T_dfef2_row0_col0, #T_dfef2_row1_col1, #T_dfef2_row2_col2, #T_dfef2_row3_col3, #T_dfef2_row4_col4, #T_dfef2_row5_col5, #T_dfef2_row6_col6, #T_dfef2_row7_col7 {\n",
                            "  background-color: #b40426;\n",
                            "  color: #f1f1f1;\n",
                            "}\n",
                            "#T_dfef2_row0_col1 {\n",
                            "  background-color: #96b7ff;\n",
                            "  color: #000000;\n",
                            "}\n",
                            "#T_dfef2_row0_col2 {\n",
                            "  background-color: #9bbcff;\n",
                            "  color: #000000;\n",
                            "}\n",
                            "#T_dfef2_row0_col3 {\n",
                            "  background-color: #9fbfff;\n",
                            "  color: #000000;\n",
                            "}\n",
                            "#T_dfef2_row0_col4 {\n",
                            "  background-color: #d3dbe7;\n",
                            "  color: #000000;\n",
                            "}\n",
                            "#T_dfef2_row0_col5 {\n",
                            "  background-color: #dfdbd9;\n",
                            "  color: #000000;\n",
                            "}\n",
                            "#T_dfef2_row0_col6 {\n",
                            "  background-color: #bbd1f8;\n",
                            "  color: #000000;\n",
                            "}\n",
                            "#T_dfef2_row0_col7 {\n",
                            "  background-color: #ebd3c6;\n",
                            "  color: #000000;\n",
                            "}\n",
                            "#T_dfef2_row1_col0 {\n",
                            "  background-color: #3f53c6;\n",
                            "  color: #f1f1f1;\n",
                            "}\n",
                            "#T_dfef2_row1_col2 {\n",
                            "  background-color: #ba162b;\n",
                            "  color: #f1f1f1;\n",
                            "}\n",
                            "#T_dfef2_row1_col3 {\n",
                            "  background-color: #ca3b37;\n",
                            "  color: #f1f1f1;\n",
                            "}\n",
                            "#T_dfef2_row1_col4 {\n",
                            "  background-color: #f5c4ac;\n",
                            "  color: #000000;\n",
                            "}\n",
                            "#T_dfef2_row1_col5 {\n",
                            "  background-color: #b2ccfb;\n",
                            "  color: #000000;\n",
                            "}\n",
                            "#T_dfef2_row1_col6 {\n",
                            "  background-color: #5a78e4;\n",
                            "  color: #f1f1f1;\n",
                            "}\n",
                            "#T_dfef2_row1_col7 {\n",
                            "  background-color: #465ecf;\n",
                            "  color: #f1f1f1;\n",
                            "}\n",
                            "#T_dfef2_row2_col0 {\n",
                            "  background-color: #3e51c5;\n",
                            "  color: #f1f1f1;\n",
                            "}\n",
                            "#T_dfef2_row2_col1 {\n",
                            "  background-color: #bb1b2c;\n",
                            "  color: #f1f1f1;\n",
                            "}\n",
                            "#T_dfef2_row2_col3, #T_dfef2_row3_col2 {\n",
                            "  background-color: #c12b30;\n",
                            "  color: #f1f1f1;\n",
                            "}\n",
                            "#T_dfef2_row2_col4 {\n",
                            "  background-color: #f5c0a7;\n",
                            "  color: #000000;\n",
                            "}\n",
                            "#T_dfef2_row2_col5 {\n",
                            "  background-color: #adc9fd;\n",
                            "  color: #000000;\n",
                            "}\n",
                            "#T_dfef2_row2_col6 {\n",
                            "  background-color: #5470de;\n",
                            "  color: #f1f1f1;\n",
                            "}\n",
                            "#T_dfef2_row2_col7 {\n",
                            "  background-color: #445acc;\n",
                            "  color: #f1f1f1;\n",
                            "}\n",
                            "#T_dfef2_row3_col0, #T_dfef2_row3_col7, #T_dfef2_row4_col0, #T_dfef2_row4_col5, #T_dfef2_row4_col6, #T_dfef2_row5_col4, #T_dfef2_row6_col1, #T_dfef2_row6_col2, #T_dfef2_row6_col3 {\n",
                            "  background-color: #3b4cc0;\n",
                            "  color: #f1f1f1;\n",
                            "}\n",
                            "#T_dfef2_row3_col1 {\n",
                            "  background-color: #cb3e38;\n",
                            "  color: #f1f1f1;\n",
                            "}\n",
                            "#T_dfef2_row3_col4 {\n",
                            "  background-color: #f7b497;\n",
                            "  color: #000000;\n",
                            "}\n",
                            "#T_dfef2_row3_col5 {\n",
                            "  background-color: #a1c0ff;\n",
                            "  color: #000000;\n",
                            "}\n",
                            "#T_dfef2_row3_col6 {\n",
                            "  background-color: #4a63d3;\n",
                            "  color: #f1f1f1;\n",
                            "}\n",
                            "#T_dfef2_row4_col1 {\n",
                            "  background-color: #d9dce1;\n",
                            "  color: #000000;\n",
                            "}\n",
                            "#T_dfef2_row4_col2 {\n",
                            "  background-color: #e1dad6;\n",
                            "  color: #000000;\n",
                            "}\n",
                            "#T_dfef2_row4_col3 {\n",
                            "  background-color: #efcebd;\n",
                            "  color: #000000;\n",
                            "}\n",
                            "#T_dfef2_row4_col7 {\n",
                            "  background-color: #4055c8;\n",
                            "  color: #f1f1f1;\n",
                            "}\n",
                            "#T_dfef2_row5_col0, #T_dfef2_row7_col1 {\n",
                            "  background-color: #5572df;\n",
                            "  color: #f1f1f1;\n",
                            "}\n",
                            "#T_dfef2_row5_col1 {\n",
                            "  background-color: #5e7de7;\n",
                            "  color: #f1f1f1;\n",
                            "}\n",
                            "#T_dfef2_row5_col2 {\n",
                            "  background-color: #5f7fe8;\n",
                            "  color: #f1f1f1;\n",
                            "}\n",
                            "#T_dfef2_row5_col3, #T_dfef2_row7_col2, #T_dfef2_row7_col3 {\n",
                            "  background-color: #5977e3;\n",
                            "  color: #f1f1f1;\n",
                            "}\n",
                            "#T_dfef2_row5_col6 {\n",
                            "  background-color: #f7ac8e;\n",
                            "  color: #000000;\n",
                            "}\n",
                            "#T_dfef2_row5_col7 {\n",
                            "  background-color: #dbdcde;\n",
                            "  color: #000000;\n",
                            "}\n",
                            "#T_dfef2_row6_col0 {\n",
                            "  background-color: #4e68d8;\n",
                            "  color: #f1f1f1;\n",
                            "}\n",
                            "#T_dfef2_row6_col4 {\n",
                            "  background-color: #7699f6;\n",
                            "  color: #f1f1f1;\n",
                            "}\n",
                            "#T_dfef2_row6_col5 {\n",
                            "  background-color: #f39778;\n",
                            "  color: #000000;\n",
                            "}\n",
                            "#T_dfef2_row6_col7, #T_dfef2_row7_col0 {\n",
                            "  background-color: #cad8ef;\n",
                            "  color: #000000;\n",
                            "}\n",
                            "#T_dfef2_row7_col4 {\n",
                            "  background-color: #a6c4fe;\n",
                            "  color: #000000;\n",
                            "}\n",
                            "#T_dfef2_row7_col5 {\n",
                            "  background-color: #f6bda2;\n",
                            "  color: #000000;\n",
                            "}\n",
                            "#T_dfef2_row7_col6 {\n",
                            "  background-color: #e0dbd8;\n",
                            "  color: #000000;\n",
                            "}\n",
                            "</style>\n",
                            "<table id=\"T_dfef2\">\n",
                            "  <thead>\n",
                            "    <tr>\n",
                            "      <th class=\"blank level0\" >&nbsp;</th>\n",
                            "      <th id=\"T_dfef2_level0_col0\" class=\"col_heading level0 col0\" >duration</th>\n",
                            "      <th id=\"T_dfef2_level0_col1\" class=\"col_heading level0 col1\" >emp.var.rate</th>\n",
                            "      <th id=\"T_dfef2_level0_col2\" class=\"col_heading level0 col2\" >euribor3m</th>\n",
                            "      <th id=\"T_dfef2_level0_col3\" class=\"col_heading level0 col3\" >nr.employed</th>\n",
                            "      <th id=\"T_dfef2_level0_col4\" class=\"col_heading level0 col4\" >pdays</th>\n",
                            "      <th id=\"T_dfef2_level0_col5\" class=\"col_heading level0 col5\" >poutcome_success</th>\n",
                            "      <th id=\"T_dfef2_level0_col6\" class=\"col_heading level0 col6\" >previous</th>\n",
                            "      <th id=\"T_dfef2_level0_col7\" class=\"col_heading level0 col7\" >y_yes</th>\n",
                            "    </tr>\n",
                            "  </thead>\n",
                            "  <tbody>\n",
                            "    <tr>\n",
                            "      <th id=\"T_dfef2_level0_row0\" class=\"row_heading level0 row0\" >duration</th>\n",
                            "      <td id=\"T_dfef2_row0_col0\" class=\"data row0 col0\" >1.00</td>\n",
                            "      <td id=\"T_dfef2_row0_col1\" class=\"data row0 col1\" >-0.03</td>\n",
                            "      <td id=\"T_dfef2_row0_col2\" class=\"data row0 col2\" >-0.03</td>\n",
                            "      <td id=\"T_dfef2_row0_col3\" class=\"data row0 col3\" >-0.04</td>\n",
                            "      <td id=\"T_dfef2_row0_col4\" class=\"data row0 col4\" >-0.05</td>\n",
                            "      <td id=\"T_dfef2_row0_col5\" class=\"data row0 col5\" >0.04</td>\n",
                            "      <td id=\"T_dfef2_row0_col6\" class=\"data row0 col6\" >0.02</td>\n",
                            "      <td id=\"T_dfef2_row0_col7\" class=\"data row0 col7\" >0.41</td>\n",
                            "    </tr>\n",
                            "    <tr>\n",
                            "      <th id=\"T_dfef2_level0_row1\" class=\"row_heading level0 row1\" >emp.var.rate</th>\n",
                            "      <td id=\"T_dfef2_row1_col0\" class=\"data row1 col0\" >-0.03</td>\n",
                            "      <td id=\"T_dfef2_row1_col1\" class=\"data row1 col1\" >1.00</td>\n",
                            "      <td id=\"T_dfef2_row1_col2\" class=\"data row1 col2\" >0.97</td>\n",
                            "      <td id=\"T_dfef2_row1_col3\" class=\"data row1 col3\" >0.91</td>\n",
                            "      <td id=\"T_dfef2_row1_col4\" class=\"data row1 col4\" >0.27</td>\n",
                            "      <td id=\"T_dfef2_row1_col5\" class=\"data row1 col5\" >-0.26</td>\n",
                            "      <td id=\"T_dfef2_row1_col6\" class=\"data row1 col6\" >-0.42</td>\n",
                            "      <td id=\"T_dfef2_row1_col7\" class=\"data row1 col7\" >-0.30</td>\n",
                            "    </tr>\n",
                            "    <tr>\n",
                            "      <th id=\"T_dfef2_level0_row2\" class=\"row_heading level0 row2\" >euribor3m</th>\n",
                            "      <td id=\"T_dfef2_row2_col0\" class=\"data row2 col0\" >-0.03</td>\n",
                            "      <td id=\"T_dfef2_row2_col1\" class=\"data row2 col1\" >0.97</td>\n",
                            "      <td id=\"T_dfef2_row2_col2\" class=\"data row2 col2\" >1.00</td>\n",
                            "      <td id=\"T_dfef2_row2_col3\" class=\"data row2 col3\" >0.95</td>\n",
                            "      <td id=\"T_dfef2_row2_col4\" class=\"data row2 col4\" >0.30</td>\n",
                            "      <td id=\"T_dfef2_row2_col5\" class=\"data row2 col5\" >-0.28</td>\n",
                            "      <td id=\"T_dfef2_row2_col6\" class=\"data row2 col6\" >-0.45</td>\n",
                            "      <td id=\"T_dfef2_row2_col7\" class=\"data row2 col7\" >-0.31</td>\n",
                            "    </tr>\n",
                            "    <tr>\n",
                            "      <th id=\"T_dfef2_level0_row3\" class=\"row_heading level0 row3\" >nr.employed</th>\n",
                            "      <td id=\"T_dfef2_row3_col0\" class=\"data row3 col0\" >-0.04</td>\n",
                            "      <td id=\"T_dfef2_row3_col1\" class=\"data row3 col1\" >0.91</td>\n",
                            "      <td id=\"T_dfef2_row3_col2\" class=\"data row3 col2\" >0.95</td>\n",
                            "      <td id=\"T_dfef2_row3_col3\" class=\"data row3 col3\" >1.00</td>\n",
                            "      <td id=\"T_dfef2_row3_col4\" class=\"data row3 col4\" >0.37</td>\n",
                            "      <td id=\"T_dfef2_row3_col5\" class=\"data row3 col5\" >-0.35</td>\n",
                            "      <td id=\"T_dfef2_row3_col6\" class=\"data row3 col6\" >-0.50</td>\n",
                            "      <td id=\"T_dfef2_row3_col7\" class=\"data row3 col7\" >-0.35</td>\n",
                            "    </tr>\n",
                            "    <tr>\n",
                            "      <th id=\"T_dfef2_level0_row4\" class=\"row_heading level0 row4\" >pdays</th>\n",
                            "      <td id=\"T_dfef2_row4_col0\" class=\"data row4 col0\" >-0.05</td>\n",
                            "      <td id=\"T_dfef2_row4_col1\" class=\"data row4 col1\" >0.27</td>\n",
                            "      <td id=\"T_dfef2_row4_col2\" class=\"data row4 col2\" >0.30</td>\n",
                            "      <td id=\"T_dfef2_row4_col3\" class=\"data row4 col3\" >0.37</td>\n",
                            "      <td id=\"T_dfef2_row4_col4\" class=\"data row4 col4\" >1.00</td>\n",
                            "      <td id=\"T_dfef2_row4_col5\" class=\"data row4 col5\" >-0.95</td>\n",
                            "      <td id=\"T_dfef2_row4_col6\" class=\"data row4 col6\" >-0.59</td>\n",
                            "      <td id=\"T_dfef2_row4_col7\" class=\"data row4 col7\" >-0.32</td>\n",
                            "    </tr>\n",
                            "    <tr>\n",
                            "      <th id=\"T_dfef2_level0_row5\" class=\"row_heading level0 row5\" >poutcome_success</th>\n",
                            "      <td id=\"T_dfef2_row5_col0\" class=\"data row5 col0\" >0.04</td>\n",
                            "      <td id=\"T_dfef2_row5_col1\" class=\"data row5 col1\" >-0.26</td>\n",
                            "      <td id=\"T_dfef2_row5_col2\" class=\"data row5 col2\" >-0.28</td>\n",
                            "      <td id=\"T_dfef2_row5_col3\" class=\"data row5 col3\" >-0.35</td>\n",
                            "      <td id=\"T_dfef2_row5_col4\" class=\"data row5 col4\" >-0.95</td>\n",
                            "      <td id=\"T_dfef2_row5_col5\" class=\"data row5 col5\" >1.00</td>\n",
                            "      <td id=\"T_dfef2_row5_col6\" class=\"data row5 col6\" >0.52</td>\n",
                            "      <td id=\"T_dfef2_row5_col7\" class=\"data row5 col7\" >0.32</td>\n",
                            "    </tr>\n",
                            "    <tr>\n",
                            "      <th id=\"T_dfef2_level0_row6\" class=\"row_heading level0 row6\" >previous</th>\n",
                            "      <td id=\"T_dfef2_row6_col0\" class=\"data row6 col0\" >0.02</td>\n",
                            "      <td id=\"T_dfef2_row6_col1\" class=\"data row6 col1\" >-0.42</td>\n",
                            "      <td id=\"T_dfef2_row6_col2\" class=\"data row6 col2\" >-0.45</td>\n",
                            "      <td id=\"T_dfef2_row6_col3\" class=\"data row6 col3\" >-0.50</td>\n",
                            "      <td id=\"T_dfef2_row6_col4\" class=\"data row6 col4\" >-0.59</td>\n",
                            "      <td id=\"T_dfef2_row6_col5\" class=\"data row6 col5\" >0.52</td>\n",
                            "      <td id=\"T_dfef2_row6_col6\" class=\"data row6 col6\" >1.00</td>\n",
                            "      <td id=\"T_dfef2_row6_col7\" class=\"data row6 col7\" >0.23</td>\n",
                            "    </tr>\n",
                            "    <tr>\n",
                            "      <th id=\"T_dfef2_level0_row7\" class=\"row_heading level0 row7\" >y_yes</th>\n",
                            "      <td id=\"T_dfef2_row7_col0\" class=\"data row7 col0\" >0.41</td>\n",
                            "      <td id=\"T_dfef2_row7_col1\" class=\"data row7 col1\" >-0.30</td>\n",
                            "      <td id=\"T_dfef2_row7_col2\" class=\"data row7 col2\" >-0.31</td>\n",
                            "      <td id=\"T_dfef2_row7_col3\" class=\"data row7 col3\" >-0.35</td>\n",
                            "      <td id=\"T_dfef2_row7_col4\" class=\"data row7 col4\" >-0.32</td>\n",
                            "      <td id=\"T_dfef2_row7_col5\" class=\"data row7 col5\" >0.32</td>\n",
                            "      <td id=\"T_dfef2_row7_col6\" class=\"data row7 col6\" >0.23</td>\n",
                            "      <td id=\"T_dfef2_row7_col7\" class=\"data row7 col7\" >1.00</td>\n",
                            "    </tr>\n",
                            "  </tbody>\n",
                            "</table>\n"
                        ],
                        "text/plain": [
                            "<pandas.io.formats.style.Styler at 0x7fbec67bb0d0>"
                        ]
                    },
                    "execution_count": 13,
                    "metadata": {},
                    "output_type": "execute_result"
                }
            ],
            "source": [
                "df_corr = data_fil.corr()\n",
                "df_corr.style.background_gradient(cmap='coolwarm').format(precision=2)"
            ]
        },
        {
            "cell_type": "markdown",
            "metadata": {},
            "source": [
                "Podemos validar cuales son las variables con mayor nivel de correlación, que seran en este caso con las que trabajaremos para el modelo."
            ]
        },
        {
            "cell_type": "markdown",
            "metadata": {},
            "source": [
                "Separamos los daos y escalamos los valores para que el modelo tenga la mayor precisión posible."
            ]
        },
        {
            "cell_type": "code",
            "execution_count": 14,
            "metadata": {},
            "outputs": [],
            "source": [
                "X = data_fil.drop(['y_yes'], axis=1)\n",
                "y = data_fil['y_yes']\n",
                "\n",
                "X_train, X_test, y_train, y_test = train_test_split(X, y, test_size=0.2, random_state=42)\n"
            ]
        },
        {
            "cell_type": "code",
            "execution_count": 15,
            "metadata": {},
            "outputs": [],
            "source": [
                "scaler = MinMaxScaler()\n",
                "\n",
                "X_train_sc = scaler.fit_transform(X_train)\n",
                "X_test_sc = scaler.transform(X_test)"
            ]
        },
        {
            "cell_type": "code",
            "execution_count": 16,
            "metadata": {},
            "outputs": [
                {
                    "data": {
                        "text/html": [
                            "<style>#sk-container-id-1 {color: black;}#sk-container-id-1 pre{padding: 0;}#sk-container-id-1 div.sk-toggleable {background-color: white;}#sk-container-id-1 label.sk-toggleable__label {cursor: pointer;display: block;width: 100%;margin-bottom: 0;padding: 0.3em;box-sizing: border-box;text-align: center;}#sk-container-id-1 label.sk-toggleable__label-arrow:before {content: \"▸\";float: left;margin-right: 0.25em;color: #696969;}#sk-container-id-1 label.sk-toggleable__label-arrow:hover:before {color: black;}#sk-container-id-1 div.sk-estimator:hover label.sk-toggleable__label-arrow:before {color: black;}#sk-container-id-1 div.sk-toggleable__content {max-height: 0;max-width: 0;overflow: hidden;text-align: left;background-color: #f0f8ff;}#sk-container-id-1 div.sk-toggleable__content pre {margin: 0.2em;color: black;border-radius: 0.25em;background-color: #f0f8ff;}#sk-container-id-1 input.sk-toggleable__control:checked~div.sk-toggleable__content {max-height: 200px;max-width: 100%;overflow: auto;}#sk-container-id-1 input.sk-toggleable__control:checked~label.sk-toggleable__label-arrow:before {content: \"▾\";}#sk-container-id-1 div.sk-estimator input.sk-toggleable__control:checked~label.sk-toggleable__label {background-color: #d4ebff;}#sk-container-id-1 div.sk-label input.sk-toggleable__control:checked~label.sk-toggleable__label {background-color: #d4ebff;}#sk-container-id-1 input.sk-hidden--visually {border: 0;clip: rect(1px 1px 1px 1px);clip: rect(1px, 1px, 1px, 1px);height: 1px;margin: -1px;overflow: hidden;padding: 0;position: absolute;width: 1px;}#sk-container-id-1 div.sk-estimator {font-family: monospace;background-color: #f0f8ff;border: 1px dotted black;border-radius: 0.25em;box-sizing: border-box;margin-bottom: 0.5em;}#sk-container-id-1 div.sk-estimator:hover {background-color: #d4ebff;}#sk-container-id-1 div.sk-parallel-item::after {content: \"\";width: 100%;border-bottom: 1px solid gray;flex-grow: 1;}#sk-container-id-1 div.sk-label:hover label.sk-toggleable__label {background-color: #d4ebff;}#sk-container-id-1 div.sk-serial::before {content: \"\";position: absolute;border-left: 1px solid gray;box-sizing: border-box;top: 0;bottom: 0;left: 50%;z-index: 0;}#sk-container-id-1 div.sk-serial {display: flex;flex-direction: column;align-items: center;background-color: white;padding-right: 0.2em;padding-left: 0.2em;position: relative;}#sk-container-id-1 div.sk-item {position: relative;z-index: 1;}#sk-container-id-1 div.sk-parallel {display: flex;align-items: stretch;justify-content: center;background-color: white;position: relative;}#sk-container-id-1 div.sk-item::before, #sk-container-id-1 div.sk-parallel-item::before {content: \"\";position: absolute;border-left: 1px solid gray;box-sizing: border-box;top: 0;bottom: 0;left: 50%;z-index: -1;}#sk-container-id-1 div.sk-parallel-item {display: flex;flex-direction: column;z-index: 1;position: relative;background-color: white;}#sk-container-id-1 div.sk-parallel-item:first-child::after {align-self: flex-end;width: 50%;}#sk-container-id-1 div.sk-parallel-item:last-child::after {align-self: flex-start;width: 50%;}#sk-container-id-1 div.sk-parallel-item:only-child::after {width: 0;}#sk-container-id-1 div.sk-dashed-wrapped {border: 1px dashed gray;margin: 0 0.4em 0.5em 0.4em;box-sizing: border-box;padding-bottom: 0.4em;background-color: white;}#sk-container-id-1 div.sk-label label {font-family: monospace;font-weight: bold;display: inline-block;line-height: 1.2em;}#sk-container-id-1 div.sk-label-container {text-align: center;}#sk-container-id-1 div.sk-container {/* jupyter's `normalize.less` sets `[hidden] { display: none; }` but bootstrap.min.css set `[hidden] { display: none !important; }` so we also need the `!important` here to be able to override the default hidden behavior on the sphinx rendered scikit-learn.org. See: https://github.com/scikit-learn/scikit-learn/issues/21755 */display: inline-block !important;position: relative;}#sk-container-id-1 div.sk-text-repr-fallback {display: none;}</style><div id=\"sk-container-id-1\" class=\"sk-top-container\"><div class=\"sk-text-repr-fallback\"><pre>LogisticRegression()</pre><b>In a Jupyter environment, please rerun this cell to show the HTML representation or trust the notebook. <br />On GitHub, the HTML representation is unable to render, please try loading this page with nbviewer.org.</b></div><div class=\"sk-container\" hidden><div class=\"sk-item\"><div class=\"sk-estimator sk-toggleable\"><input class=\"sk-toggleable__control sk-hidden--visually\" id=\"sk-estimator-id-1\" type=\"checkbox\" checked><label for=\"sk-estimator-id-1\" class=\"sk-toggleable__label sk-toggleable__label-arrow\">LogisticRegression</label><div class=\"sk-toggleable__content\"><pre>LogisticRegression()</pre></div></div></div></div></div>"
                        ],
                        "text/plain": [
                            "LogisticRegression()"
                        ]
                    },
                    "execution_count": 16,
                    "metadata": {},
                    "output_type": "execute_result"
                }
            ],
            "source": [
                "modelo = LogisticRegression()\n",
                "modelo.fit(X_train_sc, y_train)"
            ]
        },
        {
            "cell_type": "code",
            "execution_count": 17,
            "metadata": {},
            "outputs": [
                {
                    "data": {
                        "text/plain": [
                            "array([1, 0, 0, ..., 0, 0, 0])"
                        ]
                    },
                    "execution_count": 17,
                    "metadata": {},
                    "output_type": "execute_result"
                }
            ],
            "source": [
                "y_pred = modelo.predict(X_test_sc)\n",
                "y_pred"
            ]
        },
        {
            "cell_type": "code",
            "execution_count": 18,
            "metadata": {},
            "outputs": [
                {
                    "name": "stdout",
                    "output_type": "stream",
                    "text": [
                        "              precision    recall  f1-score   support\n",
                        "\n",
                        "           0       0.92      0.98      0.95      7265\n",
                        "           1       0.65      0.35      0.45       971\n",
                        "\n",
                        "    accuracy                           0.90      8236\n",
                        "   macro avg       0.79      0.66      0.70      8236\n",
                        "weighted avg       0.89      0.90      0.89      8236\n",
                        "\n"
                    ]
                }
            ],
            "source": [
                "print(classification_report(y_test,y_pred))"
            ]
        },
        {
            "cell_type": "code",
            "execution_count": 21,
            "metadata": {},
            "outputs": [
                {
                    "name": "stdout",
                    "output_type": "stream",
                    "text": [
                        "Mejores hiperparámetros: {'solver': 'saga', 'penalty': 'l1', 'max_iter': 400, 'C': 1}\n",
                        "              precision    recall  f1-score   support\n",
                        "\n",
                        "           0       0.92      0.97      0.95      7265\n",
                        "           1       0.66      0.37      0.48       971\n",
                        "\n",
                        "    accuracy                           0.90      8236\n",
                        "   macro avg       0.79      0.67      0.71      8236\n",
                        "weighted avg       0.89      0.90      0.89      8236\n",
                        "\n"
                    ]
                }
            ],
            "source": [
                "param_dist = {\n",
                "    'penalty': ['l1', 'l2'],\n",
                "    'C': [0.001, 0.01, 0.1, 1, 10, 10],\n",
                "    'solver': ['liblinear', 'saga'],\n",
                "    'max_iter': [100, 200, 300, 400, 500]\n",
                "}\n",
                "\n",
                "grid_search = RandomizedSearchCV(modelo, param_dist, cv=5, scoring='recall', n_iter=10, random_state=42)\n",
                "\n",
                "grid_search.fit(X_train_sc, y_train)\n",
                "\n",
                "best_params = grid_search.best_params_\n",
                "\n",
                "print(\"Mejores hiperparámetros:\", best_params)\n",
                "\n",
                "y_pred = grid_search.predict(X_test_sc)\n",
                "\n",
                "modelo_final = LogisticRegression(**best_params)\n",
                "\n",
                "print(classification_report(y_test, y_pred))"
            ]
        },
        {
            "cell_type": "code",
            "execution_count": 20,
            "metadata": {},
            "outputs": [],
            "source": [
                "dump(modelo_final, open(\"/workspaces/primer_ml/models/modelo_final.sav\", \"wb\"))"
            ]
        },
        {
            "cell_type": "markdown",
            "metadata": {},
            "source": [
                "### Conclusión \n",
                "\n",
                "Precision (Precisión):\n",
                "\n",
                "* Precision para la clase 0 (clientes que probablemente no contratarán un depósito a largo plazo) es alta (0.92). Esto significa que cuando el modelo predice que un cliente no contratará un depósito a largo plazo, es probable que esté en lo correcto el 92% de las veces.\n",
                "\n",
                "* Precision para la clase 1 (clientes que probablemente contratarán un depósito a largo plazo) es más baja (0.66). Esto indica que cuando el modelo predice que un cliente contratará un depósito a largo plazo, solo está en lo correcto el 66% de las veces.\n",
                "\n",
                "Recall (Recuperación o Sensibilidad):\n",
                "\n",
                "* Recall para la clase 0 es alto (0.97). Esto significa que el modelo identifica correctamente al 97% de los clientes que no contratarán un depósito a largo plazo.\n",
                "\n",
                "F1-Score:\n",
                "\n",
                "* F1-Score combina precision y recall en una sola métrica. Para la clase 0, el F1-Score es alto (0.95), lo que indica un buen equilibrio entre precision y recall. Sin embargo, para la clase 1.\n",
                "\n",
                "* F1-Score es más bajo (0.48), sugiriendo que hay margen de mejora en la capacidad del modelo para identificar clientes que contratarán un depósito a largo plazo.\n",
                "Accuracy (Exactitud):\n",
                "\n",
                "La exactitud global del modelo es del 90%, lo cual es un buen indicador general de su rendimiento en todo el conjunto de datos.\n",
                "Macro AVG y Weighted AVG:\n",
                "\n",
                "Las métricas macro avg y weighted avg brindan promedios ponderados y no ponderados, respectivamente, de las métricas de las dos clases. Estos valores proporcionan una comprensión general del rendimiento del modelo en todo el conjunto de datos."
            ]
        }
    ],
    "metadata": {
        "kernelspec": {
            "display_name": "Python 3.8.13 64-bit ('3.8.13')",
            "language": "python",
            "name": "python3"
        },
        "language_info": {
            "codemirror_mode": {
                "name": "ipython",
                "version": 3
            },
            "file_extension": ".py",
            "mimetype": "text/x-python",
            "name": "python",
            "nbconvert_exporter": "python",
            "pygments_lexer": "ipython3",
            "version": "3.11.4"
        },
        "orig_nbformat": 4,
        "vscode": {
            "interpreter": {
                "hash": "110cc1dee26208153f2972f08a2ad52b6a56238dc66d48e87fb757ef2996db56"
            }
        }
    },
    "nbformat": 4,
    "nbformat_minor": 2
}
